{
 "cells": [
  {
   "cell_type": "markdown",
   "metadata": {
    "deletable": true,
    "editable": true
   },
   "source": [
    "# Catboost R Tutorial\n",
    "R kernel for Jupyter Notebook: [link](https://irkernel.github.io/installation/)"
   ]
  },
  {
   "cell_type": "code",
   "execution_count": 1,
   "metadata": {
    "collapsed": false
   },
   "outputs": [
    {
     "name": "stderr",
     "output_type": "stream",
     "text": [
      "Loading required package: lattice\n",
      "Loading required package: ggplot2\n"
     ]
    }
   ],
   "source": [
    "library(catboost)\n",
    "library(caret)\n",
    "library(titanic)"
   ]
  },
  {
   "cell_type": "markdown",
   "metadata": {
    "deletable": true,
    "editable": true
   },
   "source": [
    "## Make catboost pool\n",
    "\n",
    "###  `catboost.load_pool`\n",
    "\n",
    "Two files are needed to create catboost pool in R:\n",
    "\n",
    "- File with features\n",
    "  \n",
    "```sh\n",
    "> cat adult_train.1000 | head -1\n",
    "1\t28.0\tPrivate\t120135.0\tAssoc-voc\t11.0\tNever-married\tSales\tNot-in-family\tWhite\tFemale\t0.0\t0.0\t40.0\tUnited-States\n",
    "```\n",
    "\n",
    "- Column description file\n",
    "\n",
    "```sh\n",
    "> cat adult.cd | head -3\n",
    "0\tTarget\n",
    "2\tCateg\n",
    "4\tCateg\n",
    "```\n",
    "\n",
    "Column indices are 0-based, column types must be one of:\n",
    "\n",
    "- Target (one column);\n",
    "- Categ;\n",
    "- Num (default type).\n",
    "\n",
    "Indices and description of numeric columns can be omitted."
   ]
  },
  {
   "cell_type": "code",
   "execution_count": 45,
   "metadata": {
    "collapsed": false,
    "deletable": true,
    "editable": true
   },
   "outputs": [
    {
     "data": {
      "text/html": [
       "<ol>\n",
       "\t<li><ol class=list-inline>\n",
       "\t<li>1</li>\n",
       "\t<li>1</li>\n",
       "\t<li>28</li>\n",
       "\t<li>3.89195830301646e+36</li>\n",
       "\t<li>120135</li>\n",
       "\t<li>-1.04016785957128e-34</li>\n",
       "\t<li>11</li>\n",
       "\t<li>1.26145722489731e+32</li>\n",
       "\t<li>-371032621056</li>\n",
       "\t<li>8.07870890394598e-34</li>\n",
       "\t<li>-9.78215504232611e+30</li>\n",
       "\t<li>-9.04798744184095e-38</li>\n",
       "\t<li>0</li>\n",
       "\t<li>0</li>\n",
       "\t<li>40</li>\n",
       "\t<li>1.21962493117738e+24</li>\n",
       "</ol>\n",
       "</li>\n",
       "</ol>\n"
      ],
      "text/latex": [
       "\\begin{enumerate}\n",
       "\\item \\begin{enumerate*}\n",
       "\\item 1\n",
       "\\item 1\n",
       "\\item 28\n",
       "\\item 3.89195830301646e+36\n",
       "\\item 120135\n",
       "\\item -1.04016785957128e-34\n",
       "\\item 11\n",
       "\\item 1.26145722489731e+32\n",
       "\\item -371032621056\n",
       "\\item 8.07870890394598e-34\n",
       "\\item -9.78215504232611e+30\n",
       "\\item -9.04798744184095e-38\n",
       "\\item 0\n",
       "\\item 0\n",
       "\\item 40\n",
       "\\item 1.21962493117738e+24\n",
       "\\end{enumerate*}\n",
       "\n",
       "\\end{enumerate}\n"
      ],
      "text/markdown": [
       "1. 1. 1\n",
       "2. 1\n",
       "3. 28\n",
       "4. 3.89195830301646e+36\n",
       "5. 120135\n",
       "6. -1.04016785957128e-34\n",
       "7. 11\n",
       "8. 1.26145722489731e+32\n",
       "9. -371032621056\n",
       "10. 8.07870890394598e-34\n",
       "11. -9.78215504232611e+30\n",
       "12. -9.04798744184095e-38\n",
       "13. 0\n",
       "14. 0\n",
       "15. 40\n",
       "16. 1.21962493117738e+24\n",
       "\n",
       "\n",
       "\n",
       "\n",
       "\n"
      ],
      "text/plain": [
       "[[1]]\n",
       " [1]  1.000000e+00  1.000000e+00  2.800000e+01  3.891958e+36  1.201350e+05\n",
       " [6] -1.040168e-34  1.100000e+01  1.261457e+32 -3.710326e+11  8.078709e-34\n",
       "[11] -9.782155e+30 -9.047987e-38  0.000000e+00  0.000000e+00  4.000000e+01\n",
       "[16]  1.219625e+24\n"
      ]
     },
     "metadata": {},
     "output_type": "display_data"
    },
    {
     "data": {
      "text/html": [
       "<ol>\n",
       "\t<li><ol class=list-inline>\n",
       "\t<li>1</li>\n",
       "\t<li>1</li>\n",
       "\t<li>28</li>\n",
       "\t<li>3.89195830301646e+36</li>\n",
       "\t<li>120135</li>\n",
       "\t<li>-1.04016785957128e-34</li>\n",
       "\t<li>11</li>\n",
       "\t<li>1.26145722489731e+32</li>\n",
       "\t<li>-371032621056</li>\n",
       "\t<li>8.07870890394598e-34</li>\n",
       "\t<li>-9.78215504232611e+30</li>\n",
       "\t<li>-9.04798744184095e-38</li>\n",
       "\t<li>0</li>\n",
       "\t<li>0</li>\n",
       "\t<li>40</li>\n",
       "\t<li>1.21962493117738e+24</li>\n",
       "</ol>\n",
       "</li>\n",
       "</ol>\n"
      ],
      "text/latex": [
       "\\begin{enumerate}\n",
       "\\item \\begin{enumerate*}\n",
       "\\item 1\n",
       "\\item 1\n",
       "\\item 28\n",
       "\\item 3.89195830301646e+36\n",
       "\\item 120135\n",
       "\\item -1.04016785957128e-34\n",
       "\\item 11\n",
       "\\item 1.26145722489731e+32\n",
       "\\item -371032621056\n",
       "\\item 8.07870890394598e-34\n",
       "\\item -9.78215504232611e+30\n",
       "\\item -9.04798744184095e-38\n",
       "\\item 0\n",
       "\\item 0\n",
       "\\item 40\n",
       "\\item 1.21962493117738e+24\n",
       "\\end{enumerate*}\n",
       "\n",
       "\\end{enumerate}\n"
      ],
      "text/markdown": [
       "1. 1. 1\n",
       "2. 1\n",
       "3. 28\n",
       "4. 3.89195830301646e+36\n",
       "5. 120135\n",
       "6. -1.04016785957128e-34\n",
       "7. 11\n",
       "8. 1.26145722489731e+32\n",
       "9. -371032621056\n",
       "10. 8.07870890394598e-34\n",
       "11. -9.78215504232611e+30\n",
       "12. -9.04798744184095e-38\n",
       "13. 0\n",
       "14. 0\n",
       "15. 40\n",
       "16. 1.21962493117738e+24\n",
       "\n",
       "\n",
       "\n",
       "\n",
       "\n"
      ],
      "text/plain": [
       "[[1]]\n",
       " [1]  1.000000e+00  1.000000e+00  2.800000e+01  3.891958e+36  1.201350e+05\n",
       " [6] -1.040168e-34  1.100000e+01  1.261457e+32 -3.710326e+11  8.078709e-34\n",
       "[11] -9.782155e+30 -9.047987e-38  0.000000e+00  0.000000e+00  4.000000e+01\n",
       "[16]  1.219625e+24\n"
      ]
     },
     "metadata": {},
     "output_type": "display_data"
    }
   ],
   "source": [
    "# load pool from path\n",
    "pool_path = '../R-package/inst/extdata/adult_train.1000'\n",
    "column_description_path = '../R-package/inst/extdata/adult.cd'\n",
    "pool <- catboost.load_pool(pool_path, column_description_path)\n",
    "catboost.head(pool, 1)\n",
    "\n",
    "# load pool from package\n",
    "pool_path = system.file(\"extdata\", \"adult_train.1000\", package=\"catboost\")\n",
    "column_description_path = system.file(\"extdata\", \"adult.cd\", package=\"catboost\")\n",
    "pool <- catboost.load_pool(pool_path, column_description_path)\n",
    "catboost.head(pool, 1)"
   ]
  },
  {
   "cell_type": "markdown",
   "metadata": {
    "deletable": true,
    "editable": true
   },
   "source": [
    "###  `catboost.from_matrix`\n",
    "\n",
    "Categorical features must be transformed to numeric columns using your own method (e.g. string hash). Indices in **`cat_features`** vector are 0-based and can be different from indices in **`.cd`** file."
   ]
  },
  {
   "cell_type": "code",
   "execution_count": 74,
   "metadata": {
    "collapsed": false,
    "deletable": true,
    "editable": true
   },
   "outputs": [
    {
     "data": {
      "text/html": [
       "<ol>\n",
       "\t<li><ol class=list-inline>\n",
       "\t<li>1</li>\n",
       "\t<li>1</li>\n",
       "\t<li>28</li>\n",
       "\t<li>4</li>\n",
       "\t<li>120135</li>\n",
       "\t<li>9</li>\n",
       "\t<li>11</li>\n",
       "\t<li>5</li>\n",
       "\t<li>12</li>\n",
       "\t<li>2</li>\n",
       "\t<li>5</li>\n",
       "\t<li>1</li>\n",
       "\t<li>0</li>\n",
       "\t<li>0</li>\n",
       "\t<li>40</li>\n",
       "\t<li>32</li>\n",
       "</ol>\n",
       "</li>\n",
       "</ol>\n"
      ],
      "text/latex": [
       "\\begin{enumerate}\n",
       "\\item \\begin{enumerate*}\n",
       "\\item 1\n",
       "\\item 1\n",
       "\\item 28\n",
       "\\item 4\n",
       "\\item 120135\n",
       "\\item 9\n",
       "\\item 11\n",
       "\\item 5\n",
       "\\item 12\n",
       "\\item 2\n",
       "\\item 5\n",
       "\\item 1\n",
       "\\item 0\n",
       "\\item 0\n",
       "\\item 40\n",
       "\\item 32\n",
       "\\end{enumerate*}\n",
       "\n",
       "\\end{enumerate}\n"
      ],
      "text/markdown": [
       "1. 1. 1\n",
       "2. 1\n",
       "3. 28\n",
       "4. 4\n",
       "5. 120135\n",
       "6. 9\n",
       "7. 11\n",
       "8. 5\n",
       "9. 12\n",
       "10. 2\n",
       "11. 5\n",
       "12. 1\n",
       "13. 0\n",
       "14. 0\n",
       "15. 40\n",
       "16. 32\n",
       "\n",
       "\n",
       "\n",
       "\n",
       "\n"
      ],
      "text/plain": [
       "[[1]]\n",
       " [1]      1      1     28      4 120135      9     11      5     12      2\n",
       "[11]      5      1      0      0     40     32\n"
      ]
     },
     "metadata": {},
     "output_type": "display_data"
    }
   ],
   "source": [
    "pool_path = '../R-package/inst/extdata/adult_train.1000'\n",
    "\n",
    "column_description_vector = rep('numeric', 15)\n",
    "cat_features <- c(3, 5, 7, 8, 9, 10, 11, 15)\n",
    "for (i in cat_features)\n",
    "    column_description_vector[i] <- 'factor'\n",
    "\n",
    "data <- read.table(pool_path, head=F, sep=\"\\t\", colClasses=column_description_vector)\n",
    "\n",
    "# Transform categorical features to numeric.\n",
    "for (i in cat_features)\n",
    "    data[,i] <- as.numeric(factor(data[,i]))\n",
    "\n",
    "target <- c(1)\n",
    "data_matrix <- as.matrix(data)\n",
    "pool <- catboost.from_matrix(data = as.matrix(data[,-target]),\n",
    "                             target = as.matrix(data[,target]),\n",
    "                             cat_features = cat_features)\n",
    "catboost.head(pool, 1)"
   ]
  },
  {
   "cell_type": "markdown",
   "metadata": {
    "deletable": true,
    "editable": true
   },
   "source": [
    "### `catboost.from_data_frame`\n",
    "\n",
    "Categorical features must be converted to factors (use as.factor(), colClasses argument of read.table() etc). Numeric features must be presented as type numeric. Target feature must be presented as type numeric."
   ]
  },
  {
   "cell_type": "code",
   "execution_count": 79,
   "metadata": {
    "collapsed": false,
    "deletable": true,
    "editable": true
   },
   "outputs": [
    {
     "data": {
      "text/html": [
       "<ol>\n",
       "\t<li><ol class=list-inline>\n",
       "\t<li>1</li>\n",
       "\t<li>1</li>\n",
       "\t<li>28</li>\n",
       "\t<li>3.89195830301646e+36</li>\n",
       "\t<li>120135</li>\n",
       "\t<li>-1.04016785957128e-34</li>\n",
       "\t<li>11</li>\n",
       "\t<li>1.26145722489731e+32</li>\n",
       "\t<li>-371032621056</li>\n",
       "\t<li>8.07870890394598e-34</li>\n",
       "\t<li>-9.78215504232611e+30</li>\n",
       "\t<li>-9.04798744184095e-38</li>\n",
       "\t<li>0</li>\n",
       "\t<li>0</li>\n",
       "\t<li>40</li>\n",
       "\t<li>1.21962493117738e+24</li>\n",
       "</ol>\n",
       "</li>\n",
       "</ol>\n"
      ],
      "text/latex": [
       "\\begin{enumerate}\n",
       "\\item \\begin{enumerate*}\n",
       "\\item 1\n",
       "\\item 1\n",
       "\\item 28\n",
       "\\item 3.89195830301646e+36\n",
       "\\item 120135\n",
       "\\item -1.04016785957128e-34\n",
       "\\item 11\n",
       "\\item 1.26145722489731e+32\n",
       "\\item -371032621056\n",
       "\\item 8.07870890394598e-34\n",
       "\\item -9.78215504232611e+30\n",
       "\\item -9.04798744184095e-38\n",
       "\\item 0\n",
       "\\item 0\n",
       "\\item 40\n",
       "\\item 1.21962493117738e+24\n",
       "\\end{enumerate*}\n",
       "\n",
       "\\end{enumerate}\n"
      ],
      "text/markdown": [
       "1. 1. 1\n",
       "2. 1\n",
       "3. 28\n",
       "4. 3.89195830301646e+36\n",
       "5. 120135\n",
       "6. -1.04016785957128e-34\n",
       "7. 11\n",
       "8. 1.26145722489731e+32\n",
       "9. -371032621056\n",
       "10. 8.07870890394598e-34\n",
       "11. -9.78215504232611e+30\n",
       "12. -9.04798744184095e-38\n",
       "13. 0\n",
       "14. 0\n",
       "15. 40\n",
       "16. 1.21962493117738e+24\n",
       "\n",
       "\n",
       "\n",
       "\n",
       "\n"
      ],
      "text/plain": [
       "[[1]]\n",
       " [1]  1.000000e+00  1.000000e+00  2.800000e+01  3.891958e+36  1.201350e+05\n",
       " [6] -1.040168e-34  1.100000e+01  1.261457e+32 -3.710326e+11  8.078709e-34\n",
       "[11] -9.782155e+30 -9.047987e-38  0.000000e+00  0.000000e+00  4.000000e+01\n",
       "[16]  1.219625e+24\n"
      ]
     },
     "metadata": {},
     "output_type": "display_data"
    },
    {
     "data": {
      "text/html": [
       "<ol>\n",
       "\t<li><ol class=list-inline>\n",
       "\t<li>1</li>\n",
       "\t<li>1</li>\n",
       "\t<li>73</li>\n",
       "\t<li>-1220010961797120</li>\n",
       "\t<li>30958</li>\n",
       "\t<li>-40904704</li>\n",
       "\t<li>10</li>\n",
       "\t<li>-2.32643418585933e-34</li>\n",
       "\t<li>-371032621056</li>\n",
       "\t<li>9.09455348664148e-37</li>\n",
       "\t<li>-9.78215504232611e+30</li>\n",
       "\t<li>-3.16386135068569e-08</li>\n",
       "\t<li>0</li>\n",
       "\t<li>0</li>\n",
       "\t<li>25</li>\n",
       "\t<li>1.21962493117738e+24</li>\n",
       "</ol>\n",
       "</li>\n",
       "</ol>\n"
      ],
      "text/latex": [
       "\\begin{enumerate}\n",
       "\\item \\begin{enumerate*}\n",
       "\\item 1\n",
       "\\item 1\n",
       "\\item 73\n",
       "\\item -1220010961797120\n",
       "\\item 30958\n",
       "\\item -40904704\n",
       "\\item 10\n",
       "\\item -2.32643418585933e-34\n",
       "\\item -371032621056\n",
       "\\item 9.09455348664148e-37\n",
       "\\item -9.78215504232611e+30\n",
       "\\item -3.16386135068569e-08\n",
       "\\item 0\n",
       "\\item 0\n",
       "\\item 25\n",
       "\\item 1.21962493117738e+24\n",
       "\\end{enumerate*}\n",
       "\n",
       "\\end{enumerate}\n"
      ],
      "text/markdown": [
       "1. 1. 1\n",
       "2. 1\n",
       "3. 73\n",
       "4. -1220010961797120\n",
       "5. 30958\n",
       "6. -40904704\n",
       "7. 10\n",
       "8. -2.32643418585933e-34\n",
       "9. -371032621056\n",
       "10. 9.09455348664148e-37\n",
       "11. -9.78215504232611e+30\n",
       "12. -3.16386135068569e-08\n",
       "13. 0\n",
       "14. 0\n",
       "15. 25\n",
       "16. 1.21962493117738e+24\n",
       "\n",
       "\n",
       "\n",
       "\n",
       "\n"
      ],
      "text/plain": [
       "[[1]]\n",
       " [1]  1.000000e+00  1.000000e+00  7.300000e+01 -1.220011e+15  3.095800e+04\n",
       " [6] -4.090470e+07  1.000000e+01 -2.326434e-34 -3.710326e+11  9.094553e-37\n",
       "[11] -9.782155e+30 -3.163861e-08  0.000000e+00  0.000000e+00  2.500000e+01\n",
       "[16]  1.219625e+24\n"
      ]
     },
     "metadata": {},
     "output_type": "display_data"
    }
   ],
   "source": [
    "train_path = '../R-package/inst/extdata/adult_train.1000'\n",
    "test_path = '../R-package/inst/extdata/adult_test.1000'\n",
    "\n",
    "column_description_vector = rep('numeric', 15)\n",
    "cat_features <- c(3, 5, 7, 8, 9, 10, 11, 15)\n",
    "for (i in cat_features)\n",
    "    column_description_vector[i] <- 'factor'\n",
    "    \n",
    "train <- read.table(train_path, head=F, sep=\"\\t\", colClasses=column_description_vector)\n",
    "test <- read.table(test_path, head=F, sep=\"\\t\", colClasses=column_description_vector)\n",
    "target <- c(1)\n",
    "train_pool <- catboost.from_data_frame(data=train[,-target], target=train[,target])\n",
    "test_pool <- catboost.from_data_frame(data=test[,-target], target=test[,target])\n",
    "catboost.head(train_pool, 1)\n",
    "catboost.head(test_pool, 1)"
   ]
  },
  {
   "cell_type": "markdown",
   "metadata": {
    "deletable": true,
    "editable": true
   },
   "source": [
    "## Explore pool"
   ]
  },
  {
   "cell_type": "code",
   "execution_count": 123,
   "metadata": {
    "collapsed": false,
    "deletable": true,
    "editable": true
   },
   "outputs": [
    {
     "name": "stdout",
     "output_type": "stream",
     "text": [
      "Nrows:  1000 , Ncols:  14 \n",
      "First row: "
     ]
    },
    {
     "data": {
      "text/html": [
       "<ol>\n",
       "\t<li><ol class=list-inline>\n",
       "\t<li>1</li>\n",
       "\t<li>1</li>\n",
       "\t<li>28</li>\n",
       "\t<li>3.89195830301646e+36</li>\n",
       "\t<li>120135</li>\n",
       "\t<li>-1.04016785957128e-34</li>\n",
       "\t<li>11</li>\n",
       "\t<li>1.26145722489731e+32</li>\n",
       "\t<li>-371032621056</li>\n",
       "\t<li>8.07870890394598e-34</li>\n",
       "\t<li>-9.78215504232611e+30</li>\n",
       "\t<li>-9.04798744184095e-38</li>\n",
       "\t<li>0</li>\n",
       "\t<li>0</li>\n",
       "\t<li>40</li>\n",
       "\t<li>1.21962493117738e+24</li>\n",
       "</ol>\n",
       "</li>\n",
       "</ol>\n"
      ],
      "text/latex": [
       "\\begin{enumerate}\n",
       "\\item \\begin{enumerate*}\n",
       "\\item 1\n",
       "\\item 1\n",
       "\\item 28\n",
       "\\item 3.89195830301646e+36\n",
       "\\item 120135\n",
       "\\item -1.04016785957128e-34\n",
       "\\item 11\n",
       "\\item 1.26145722489731e+32\n",
       "\\item -371032621056\n",
       "\\item 8.07870890394598e-34\n",
       "\\item -9.78215504232611e+30\n",
       "\\item -9.04798744184095e-38\n",
       "\\item 0\n",
       "\\item 0\n",
       "\\item 40\n",
       "\\item 1.21962493117738e+24\n",
       "\\end{enumerate*}\n",
       "\n",
       "\\end{enumerate}\n"
      ],
      "text/markdown": [
       "1. 1. 1\n",
       "2. 1\n",
       "3. 28\n",
       "4. 3.89195830301646e+36\n",
       "5. 120135\n",
       "6. -1.04016785957128e-34\n",
       "7. 11\n",
       "8. 1.26145722489731e+32\n",
       "9. -371032621056\n",
       "10. 8.07870890394598e-34\n",
       "11. -9.78215504232611e+30\n",
       "12. -9.04798744184095e-38\n",
       "13. 0\n",
       "14. 0\n",
       "15. 40\n",
       "16. 1.21962493117738e+24\n",
       "\n",
       "\n",
       "\n",
       "\n",
       "\n"
      ],
      "text/plain": [
       "[[1]]\n",
       " [1]  1.000000e+00  1.000000e+00  2.800000e+01  3.891958e+36  1.201350e+05\n",
       " [6] -1.040168e-34  1.100000e+01  1.261457e+32 -3.710326e+11  8.078709e-34\n",
       "[11] -9.782155e+30 -9.047987e-38  0.000000e+00  0.000000e+00  4.000000e+01\n",
       "[16]  1.219625e+24\n"
      ]
     },
     "metadata": {},
     "output_type": "display_data"
    }
   ],
   "source": [
    "# number of rows\n",
    "cat(\"Nrows: \", catboost.nrow(train_pool), \", Ncols: \", catboost.ncol(train_pool), \"\\n\")\n",
    "# first rows of pool\n",
    "cat(\"First row: \")\n",
    "catboost.head(train_pool, n = 1)"
   ]
  },
  {
   "cell_type": "markdown",
   "metadata": {
    "deletable": true,
    "editable": true
   },
   "source": [
    "## Train model\n",
    "\n",
    "See **`help(catboost.train)`** for all arguments and description. Loss functions: RMSE, MAE, Logloss, CrossEntropy, Quantile, LogLinQuantile, Poisson, MAPE, MultiClass, AUC."
   ]
  },
  {
   "cell_type": "code",
   "execution_count": 124,
   "metadata": {
    "collapsed": true,
    "deletable": true,
    "editable": true
   },
   "outputs": [],
   "source": [
    "fit_params <- list(iterations = 100,\n",
    "                   thread_count = 10,\n",
    "                   loss_function = 'Logloss',\n",
    "                   ignored_features = c(4,9),\n",
    "                   border_count = 32,\n",
    "                   depth = 5,\n",
    "                   learning_rate = 0.03,\n",
    "                   l2_leaf_reg = 3.5,\n",
    "                   border = 0.5,\n",
    "                   train_dir = 'train_dir')\n",
    "model <- catboost.train(train_pool, test_pool, fit_params)"
   ]
  },
  {
   "cell_type": "markdown",
   "metadata": {
    "deletable": true,
    "editable": true
   },
   "source": [
    "## Predict and evaluate"
   ]
  },
  {
   "cell_type": "code",
   "execution_count": 125,
   "metadata": {
    "collapsed": false,
    "deletable": true,
    "editable": true
   },
   "outputs": [
    {
     "name": "stdout",
     "output_type": "stream",
     "text": [
      "Sample predictions:  0.2544215 0.08505329 0.8480813 0.1397898 0.1505384 \n"
     ]
    },
    {
     "data": {
      "text/plain": [
       "      \n",
       "labels  -1   1\n",
       "     0 436 125\n",
       "     1  64 375"
      ]
     },
     "metadata": {},
     "output_type": "display_data"
    },
    {
     "name": "stdout",
     "output_type": "stream",
     "text": [
      "Accuracy:  0.811 \n",
      "7.253927 0.5130889 0.5939859 16.50384 0 22.99408 11.65108 10.85036 1.893606 0 21.13951 0.6196936 4.18149 1.805337 \n"
     ]
    }
   ],
   "source": [
    "calc_accuracy <- function(prediction, expected) {\n",
    "  labels <- ifelse(prediction > 0.5, 1, -1)\n",
    "  accuracy <- sum(labels == expected) / length(labels)\n",
    "  return(accuracy)\n",
    "}\n",
    "\n",
    "prediction <- catboost.predict(model, test_pool, type = 'Probability')\n",
    "cat(\"Sample predictions: \", sample(prediction, 5), \"\\n\")\n",
    "\n",
    "labels <- catboost.predict(model, test_pool, type = 'Class')\n",
    "table(labels, test[,target])\n",
    "\n",
    "# works properly only for Logloss\n",
    "accuracy <- calc_accuracy(prediction, test[,target])\n",
    "cat(\"Accuracy: \", accuracy, \"\\n\")\n",
    "\n",
    "# feature splits importances (not finished)\n",
    "cat(catboost.importance(model, learn_pool), \"\\n\")"
   ]
  },
  {
   "cell_type": "markdown",
   "metadata": {
    "deletable": true,
    "editable": true
   },
   "source": [
    "## Catboosting with caret"
   ]
  },
  {
   "cell_type": "markdown",
   "metadata": {
    "deletable": true,
    "editable": true
   },
   "source": [
    "Load and preprocess the Titanic dataset."
   ]
  },
  {
   "cell_type": "code",
   "execution_count": 131,
   "metadata": {
    "collapsed": true,
    "deletable": true,
    "editable": true
   },
   "outputs": [],
   "source": [
    "set.seed(12345)\n",
    "\n",
    "data <- as.data.frame(as.matrix(titanic_train), stringsAsFactors=TRUE)\n",
    "\n",
    "age_levels <- levels(data$Age)\n",
    "most_frequent_age <- which.max(table(data$Age))\n",
    "data$Age[is.na(data$Age)] <- age_levels[most_frequent_age]\n",
    "\n",
    "drop_columns = c(\"PassengerId\", \"Survived\", \"Name\", \"Ticket\", \"Cabin\")\n",
    "x <- data[,!(names(data) %in% drop_columns)]\n",
    "y <- data[,c(\"Survived\")]"
   ]
  },
  {
   "cell_type": "markdown",
   "metadata": {
    "deletable": true,
    "editable": true
   },
   "source": [
    "At training we use 5-fold cross-validation. Also try to find the optimal trees' depth."
   ]
  },
  {
   "cell_type": "code",
   "execution_count": 132,
   "metadata": {
    "collapsed": true,
    "deletable": true,
    "editable": true
   },
   "outputs": [],
   "source": [
    "fit_control <- trainControl(method = \"cv\",\n",
    "                            number = 5,\n",
    "                            classProbs = TRUE)\n",
    "\n",
    "grid <- expand.grid(depth = c(4, 6, 8),\n",
    "                    learning_rate = 0.1,\n",
    "                    iterations = 100,\n",
    "                    l2_leaf_reg = 1e-3,\n",
    "                    rsm = 0.95,\n",
    "                    border_count = 64)\n",
    "\n",
    "report <- train(x, as.factor(make.names(y)),\n",
    "                method = catboost.caret,\n",
    "                verbose = FALSE, preProc = NULL,\n",
    "                tuneGrid = grid, trControl = fit_control)"
   ]
  },
  {
   "cell_type": "markdown",
   "metadata": {
    "deletable": true,
    "editable": true
   },
   "source": [
    "And print the result."
   ]
  },
  {
   "cell_type": "code",
   "execution_count": 133,
   "metadata": {
    "collapsed": false,
    "deletable": true,
    "editable": true
   },
   "outputs": [
    {
     "name": "stdout",
     "output_type": "stream",
     "text": [
      "Catboost \n",
      "\n",
      "891 samples\n",
      "  7 predictor\n",
      "  2 classes: 'X0', 'X1' \n",
      "\n",
      "No pre-processing\n",
      "Resampling: Cross-Validated (5 fold) \n",
      "Summary of sample sizes: 714, 712, 713, 713, 712 \n",
      "Resampling results across tuning parameters:\n",
      "\n",
      "  depth  Accuracy   Kappa    \n",
      "  4      0.8024142  0.5654448\n",
      "  6      0.7980396  0.5627861\n",
      "  8      0.8114472  0.5872851\n",
      "\n",
      "Tuning parameter 'learning_rate' was held constant at a value of 0.1\n",
      "\n",
      "Tuning parameter 'rsm' was held constant at a value of 0.95\n",
      "Tuning\n",
      " parameter 'border_count' was held constant at a value of 64\n",
      "Accuracy was used to select the optimal model using  the largest value.\n",
      "The final values used for the model were depth = 8, learning_rate =\n",
      " 0.1, iterations = 100, l2_leaf_reg = 0.001, rsm = 0.95 and border_count = 64.\n",
      "custom variable importance\n",
      "\n",
      "         Overall\n",
      "Sex       20.619\n",
      "Age       17.349\n",
      "Fare      17.124\n",
      "Pclass    14.620\n",
      "SibSp     11.043\n",
      "Embarked  10.750\n",
      "Parch      8.495\n"
     ]
    }
   ],
   "source": [
    "print(report)\n",
    "\n",
    "importance <- varImp(report, scale = FALSE)\n",
    "print(importance)"
   ]
  }
 ],
 "metadata": {
  "kernelspec": {
   "display_name": "R",
   "language": "R",
   "name": "ir"
  },
  "language_info": {
   "codemirror_mode": "r",
   "file_extension": ".r",
   "mimetype": "text/x-r-source",
   "name": "R",
   "pygments_lexer": "r",
   "version": "3.4.1"
  }
 },
 "nbformat": 4,
 "nbformat_minor": 2
}
