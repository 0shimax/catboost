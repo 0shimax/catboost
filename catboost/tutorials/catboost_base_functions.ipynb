{
 "cells": [
  {
   "cell_type": "markdown",
   "metadata": {},
   "source": [
    "# Tutorial of base functions "
   ]
  },
  {
   "cell_type": "markdown",
   "metadata": {},
   "source": [
    "For classification you will need to use `CatBoostClassifier`."
   ]
  },
  {
   "cell_type": "markdown",
   "metadata": {},
   "source": [
    "### Binary classification"
   ]
  },
  {
   "cell_type": "markdown",
   "metadata": {},
   "source": [
    "There are several `loss_function`s to use:\n",
    "\n",
    "* `Logloss`,\n",
    "* `CrossEntropy`,\n",
    "* or a custom objective function."
   ]
  },
  {
   "cell_type": "code",
   "execution_count": 1,
   "metadata": {},
   "outputs": [],
   "source": [
    "from catboost import CatBoostClassifier"
   ]
  },
  {
   "cell_type": "code",
   "execution_count": 2,
   "metadata": {},
   "outputs": [],
   "source": [
    "# Initialize data\n",
    "cat_features = [0,1,2] # indices for cat_features\n",
    "train_data = [[\"a\",\"b\",1,4,5,6],[\"a\",\"b\",4,5,6,7],[\"c\",\"d\",30,40,50,60]] # cat_features should be string or int\n",
    "train_labels = [1,1,-1]\n",
    "test_data = [[\"a\",\"b\",2,4,6,8],[\"a\",\"d\",1,4,50,60]]"
   ]
  },
  {
   "cell_type": "code",
   "execution_count": 3,
   "metadata": {},
   "outputs": [
    {
     "name": "stdout",
     "output_type": "stream",
     "text": [
      "0:\tlearn: 0.2040815\ttotal: 54.3ms\tremaining: 54.3ms\n",
      "1:\tlearn: 0.1103294\ttotal: 55.8ms\tremaining: 0us\n"
     ]
    },
    {
     "data": {
      "text/plain": [
       "<catboost.core._CatBoostBase at 0x7ff8f09866d0>"
      ]
     },
     "execution_count": 3,
     "metadata": {},
     "output_type": "execute_result"
    }
   ],
   "source": [
    "# Initialize CatBoostClassifier\n",
    "model = CatBoostClassifier(iterations=2, learning_rate=1, depth=2, loss_function='Logloss')\n",
    "# Fit model\n",
    "model.fit(train_data, train_labels, cat_features)"
   ]
  },
  {
   "cell_type": "code",
   "execution_count": 4,
   "metadata": {},
   "outputs": [
    {
     "name": "stdout",
     "output_type": "stream",
     "text": [
      "[ 1.  1.]\n"
     ]
    }
   ],
   "source": [
    "# Get predicted classes\n",
    "preds_class = model.predict(test_data)\n",
    "# Get predicted probabilities for each class\n",
    "preds_proba = model.predict_proba(test_data)\n",
    "# Get predicted RawFormulaVal\n",
    "preds_raw = model.predict(test_data, prediction_type='RawFormulaVal')\n",
    "print(preds_class)"
   ]
  },
  {
   "cell_type": "markdown",
   "metadata": {},
   "source": [
    "For Multiclassification use `loss_function='MultiClass'`."
   ]
  },
  {
   "cell_type": "code",
   "execution_count": 5,
   "metadata": {},
   "outputs": [],
   "source": [
    "from sklearn.datasets import load_iris\n",
    "iris = load_iris()"
   ]
  },
  {
   "cell_type": "code",
   "execution_count": 6,
   "metadata": {},
   "outputs": [],
   "source": [
    "from sklearn.model_selection import train_test_split\n",
    "x_train, x_test, y_train, y_test = train_test_split(iris.data, iris.target, test_size=0.3, random_state=42)"
   ]
  },
  {
   "cell_type": "code",
   "execution_count": 7,
   "metadata": {},
   "outputs": [
    {
     "data": {
      "text/plain": [
       "<catboost.core._CatBoostBase at 0x7ff8d608f210>"
      ]
     },
     "execution_count": 7,
     "metadata": {},
     "output_type": "execute_result"
    }
   ],
   "source": [
    "# Initialize CatBoostClassifier\n",
    "model = CatBoostClassifier(\n",
    "    iterations=100,\n",
    "    learning_rate=1,\n",
    "    depth=6,\n",
    "    loss_function='MultiClass',\n",
    "    classes_count=3,\n",
    "    logging_level='Silent'\n",
    ")\n",
    "# Fit model\n",
    "model.fit(x_train, y_train)"
   ]
  },
  {
   "cell_type": "code",
   "execution_count": 8,
   "metadata": {},
   "outputs": [
    {
     "name": "stdout",
     "output_type": "stream",
     "text": [
      "accuracy = 1.0\n",
      "log_loss = 0.00454027925764\n"
     ]
    }
   ],
   "source": [
    "from sklearn.metrics import accuracy_score, log_loss\n",
    "# Get predicted classes\n",
    "preds_class = model.predict(x_test)\n",
    "print(\"accuracy = {}\".format(accuracy_score(y_test, preds_class)))\n",
    "# Get predicted probabilities for each class\n",
    "preds_proba = model.predict_proba(x_test)\n",
    "print(\"log_loss = {}\".format(log_loss(y_test, preds_proba)))"
   ]
  },
  {
   "cell_type": "markdown",
   "metadata": {},
   "source": [
    "Also you can use pre-training results (baseline)."
   ]
  },
  {
   "cell_type": "markdown",
   "metadata": {},
   "source": [
    "The results (only `raw_values`, not probability or class) can be set as baseline for the new model.\n",
    "The shape of the baseline depends on the machine learning problem being solved:\n",
    "\n",
    "* Classification: a two-dimensional array with `shape = (length of data, number of classes)`\n",
    "* Regression: a one-dimensional array."
   ]
  },
  {
   "cell_type": "code",
   "execution_count": 9,
   "metadata": {},
   "outputs": [
    {
     "data": {
      "text/plain": [
       "<catboost.core._CatBoostBase at 0x7ff8d608f210>"
      ]
     },
     "execution_count": 9,
     "metadata": {},
     "output_type": "execute_result"
    }
   ],
   "source": [
    "# Get baseline (only with prediction_type='RawFormulaVal')\n",
    "baseline = model.predict(x_train, prediction_type='RawFormulaVal')\n",
    "# Fit new model\n",
    "model.fit(x_train, y_train, baseline=baseline)"
   ]
  },
  {
   "cell_type": "markdown",
   "metadata": {},
   "source": [
    "### Using object weights"
   ]
  },
  {
   "cell_type": "markdown",
   "metadata": {},
   "source": [
    "The weight for each object in the input data can be set in the form of a one-dimensional array like data (length = data length).\n",
    "The weight is used for calculating the final values of the trees. By default, it is set to 1 for all objects."
   ]
  },
  {
   "cell_type": "code",
   "execution_count": 10,
   "metadata": {},
   "outputs": [
    {
     "data": {
      "text/plain": [
       "<catboost.core._CatBoostBase at 0x7ff8d608f210>"
      ]
     },
     "execution_count": 10,
     "metadata": {},
     "output_type": "execute_result"
    }
   ],
   "source": [
    "import numpy as np\n",
    "weight = np.random.random(len(x_train))\n",
    "model.fit(x_train, y_train, sample_weight=weight)"
   ]
  },
  {
   "cell_type": "markdown",
   "metadata": {},
   "source": [
    "### Using best model"
   ]
  },
  {
   "cell_type": "markdown",
   "metadata": {},
   "source": [
    "If this parameter is set, the number of trees that are saved in the resulting model is defined as follows:\n",
    "Build the number of trees defined by the training parameters.\n",
    "Identify the iteration with the optimal loss function value.\n",
    "No trees are saved after this iteration.\n",
    "The `eval_set` parameter is obligatory for the `fit` method if the best model mode is on.\n",
    "`eval_set` should have the same values for the following training dataset parameters:\n",
    "\n",
    "* `cat_features`\n",
    "* `baseline` (if set)."
   ]
  },
  {
   "cell_type": "code",
   "execution_count": 11,
   "metadata": {},
   "outputs": [
    {
     "data": {
      "text/plain": [
       "<catboost.core._CatBoostBase at 0x7ff8d608f210>"
      ]
     },
     "execution_count": 11,
     "metadata": {},
     "output_type": "execute_result"
    }
   ],
   "source": [
    "eval_set = (x_test, y_test)\n",
    "model.fit(x_train, y_train, use_best_model=True, eval_set=eval_set)"
   ]
  },
  {
   "cell_type": "markdown",
   "metadata": {},
   "source": [
    "### Using `staged_predict`"
   ]
  },
  {
   "cell_type": "markdown",
   "metadata": {},
   "source": [
    "The values of the model can be output for each i-th tree of the model by taking into consideration only the trees in the range [1;i].\n",
    "This feature is implemented via the `staged_predict` method (available in the `CatBoostClassifier` and `CatBoostRegressor` classes)."
   ]
  },
  {
   "cell_type": "code",
   "execution_count": 12,
   "metadata": {},
   "outputs": [],
   "source": [
    "staged_predictions = model.staged_predict(x_test)\n",
    "# It is equivalent to use predict() with `ntree_end` in loop, but faster\n",
    "staged_predictions = []\n",
    "for i in range(1, model.tree_count_ + 1):\n",
    "    staged_predictions.append(model.predict(x_test, ntree_end=i))"
   ]
  },
  {
   "cell_type": "markdown",
   "metadata": {},
   "source": [
    "### Custom objective function"
   ]
  },
  {
   "cell_type": "markdown",
   "metadata": {},
   "source": [
    "A custom objective function can be used by specifying a python object as the value for the `loss_function` parameter. In this case the objective is always maximized.\n",
    "Depending on the machine learning problem the python object should have one of the following functions defined:\n",
    "\n",
    "* `calc_ders_range`\n",
    "* `calc_ders_multi(approxes, target, weight)` (for multiclassification)"
   ]
  },
  {
   "cell_type": "code",
   "execution_count": 13,
   "metadata": {},
   "outputs": [],
   "source": [
    "import math\n",
    "class LoglossObjective(object):\n",
    "    def calc_ders_range(self, approxes, targets, weights):\n",
    "        # approxes, targets, weights are indexed containers of floats\n",
    "        # (containers which have only __len__ and __getitem__ defined).\n",
    "        # weights parameter can be None.\n",
    "        #\n",
    "        # To understand what these parameters mean, assume that there is\n",
    "        # a subset of your dataset that is currently being processed.\n",
    "        # approxes contains current predictions for this subset,\n",
    "        # targets contains target values you provided with the dataset.\n",
    "        #\n",
    "        # This function should return a list of pairs (der1, der2), where\n",
    "        # der1 is the first derivative of the loss function with respect\n",
    "        # to the predicted value, and der2 is the second derivative.\n",
    "        #\n",
    "        # In our case, logloss is defined by the following formula:\n",
    "        # target * log(sigmoid(approx)) + (1 - target) * (1 - sigmoid(approx))\n",
    "        # where sigmoid(x) = 1 / (1 + e^(-x)).\n",
    "        assert len(approxes) == len(targets)\n",
    "        if weights is not None:\n",
    "            assert len(weights) == len(approxes)\n",
    "\n",
    "        result = []\n",
    "        for index in xrange(len(targets)):\n",
    "            e = math.exp(approxes[index])\n",
    "            p = e / (1 + e)\n",
    "            der1 = (1 - p) if targets[index] > 0.0 else -p\n",
    "            der2 = -p * (1 - p)\n",
    "\n",
    "            if weights is not None:\n",
    "                der1 *= weights[index]\n",
    "                der2 *= weights[index]\n",
    "\n",
    "            result.append((der1, der2))\n",
    "\n",
    "        return result"
   ]
  },
  {
   "cell_type": "code",
   "execution_count": 14,
   "metadata": {
    "scrolled": true
   },
   "outputs": [],
   "source": [
    "model = CatBoostClassifier(\n",
    "    random_seed=0, \n",
    "    loss_function=LoglossObjective(), \n",
    "    eval_metric=\"Logloss\", \n",
    "    logging_level='Silent'\n",
    ")\n",
    "# Fit model\n",
    "model.fit(x_train, y_train)\n",
    "# Only prediction_type='RawFormulaVal' is allowed with custom `loss_function`\n",
    "preds_raw = model.predict(x_test, prediction_type='RawFormulaVal') "
   ]
  },
  {
   "cell_type": "markdown",
   "metadata": {},
   "source": [
    "### Custom metric function for overfitting detector and best model selection"
   ]
  },
  {
   "cell_type": "markdown",
   "metadata": {},
   "source": [
    "To set a custom metric function for overfitting detector and best model selection, create an object that implements the following interface:"
   ]
  },
  {
   "cell_type": "code",
   "execution_count": 15,
   "metadata": {},
   "outputs": [],
   "source": [
    "class CustomMetric(object):\n",
    "    def get_final_error(self, error, weight):\n",
    "        return 0.0\n",
    "\n",
    "    def is_max_optimal(self):\n",
    "        return True\n",
    "\n",
    "    def evaluate(self, approxes, target, weight):\n",
    "        # approxes - list of list-like objects (one object per approx dimension)\n",
    "        # target - list-like object\n",
    "        # weight - list-like object, can be None\n",
    "        return 0.0, 0.0"
   ]
  },
  {
   "cell_type": "markdown",
   "metadata": {},
   "source": [
    "The following is an example of an implementation of the Logloss function:"
   ]
  },
  {
   "cell_type": "code",
   "execution_count": 16,
   "metadata": {},
   "outputs": [],
   "source": [
    "import math\n",
    "class LoglossMetric(object):\n",
    "    def get_final_error(self, error, weight):\n",
    "        return error / (weight + 1e-38)\n",
    "\n",
    "    def is_max_optimal(self):\n",
    "        return True\n",
    "\n",
    "    def evaluate(self, approxes, target, weight):\n",
    "        # approxes is a list of indexed containers\n",
    "        # (containers with only __len__ and __getitem__ defined),\n",
    "        # one container per approx dimension.\n",
    "        # Each container contains floats.\n",
    "        # weight is a one dimensional indexed container.\n",
    "        # target is float.\n",
    "        \n",
    "        # weight parameter can be None.\n",
    "        # Returns pair (error, weights sum)\n",
    "        \n",
    "        assert len(approxes) == 1\n",
    "        assert len(target) == len(approxes[0])\n",
    "\n",
    "        approx = approxes[0]\n",
    "\n",
    "        error_sum = 0.0\n",
    "        weight_sum = 0.0\n",
    "\n",
    "        for i in xrange(len(approx)):\n",
    "            w = 1.0 if weight is None else weight[i]\n",
    "            weight_sum += w\n",
    "            error_sum += w * (target[i] * approx[i] - math.log(1 + math.exp(approx[i])))\n",
    "\n",
    "        return error_sum, weight_sum\n"
   ]
  },
  {
   "cell_type": "code",
   "execution_count": 17,
   "metadata": {},
   "outputs": [
    {
     "name": "stdout",
     "output_type": "stream",
     "text": [
      "0:\tlearn: -0.6413782\ttest: -0.6411148\tbest: -0.6411148 (0)\ttotal: 10.3ms\tremaining: 41.3ms\n",
      "1:\tlearn: -0.5916443\ttest: -0.5978797\tbest: -0.5978797 (1)\ttotal: 21.9ms\tremaining: 32.9ms\n",
      "2:\tlearn: -0.5449263\ttest: -0.5490158\tbest: -0.5490158 (2)\ttotal: 31.3ms\tremaining: 20.9ms\n",
      "3:\tlearn: -0.5022478\ttest: -0.5051050\tbest: -0.5051050 (3)\ttotal: 40.6ms\tremaining: 10.2ms\n",
      "4:\tlearn: -0.4643401\ttest: -0.4653301\tbest: -0.4653301 (4)\ttotal: 50.9ms\tremaining: 0us\n",
      "\n",
      "bestTest = -0.4653300749\n",
      "bestIteration = 4\n",
      "\n",
      "Shrink model to first 5 iterations.\n"
     ]
    },
    {
     "data": {
      "text/plain": [
       "<catboost.core._CatBoostBase at 0x7ff8d608fe50>"
      ]
     },
     "execution_count": 17,
     "metadata": {},
     "output_type": "execute_result"
    }
   ],
   "source": [
    "model = CatBoostClassifier(iterations=5, random_seed=0, eval_metric=LoglossMetric())\n",
    "model.fit(x_train, y_train, use_best_model=True, eval_set=(x_test, y_test))"
   ]
  },
  {
   "cell_type": "markdown",
   "metadata": {},
   "source": [
    "Pass the created object to the `eval_metric` parameter:"
   ]
  },
  {
   "cell_type": "code",
   "execution_count": 18,
   "metadata": {},
   "outputs": [
    {
     "data": {
      "text/plain": [
       "<catboost.core._CatBoostBase at 0x7ff8d608f3d0>"
      ]
     },
     "execution_count": 18,
     "metadata": {},
     "output_type": "execute_result"
    }
   ],
   "source": [
    "model = CatBoostClassifier(eval_metric=CustomMetric(), logging_level='Silent')\n",
    "model.fit(x_train, y_train, use_best_model=True, eval_set=(x_test, y_test))"
   ]
  },
  {
   "cell_type": "markdown",
   "metadata": {},
   "source": [
    "Use cross validation:"
   ]
  },
  {
   "cell_type": "code",
   "execution_count": 19,
   "metadata": {},
   "outputs": [],
   "source": [
    "# From catboost\n",
    "from catboost import cv, Pool\n",
    "pool = Pool(x_train, y_train)\n",
    "params = {'iterations': 100, 'depth': 2, 'loss_function': 'MultiClass', 'classes_count': 3, 'logging_level': 'Silent'}\n",
    "scores = cv(pool, params)"
   ]
  },
  {
   "cell_type": "markdown",
   "metadata": {},
   "source": [
    "`cv` returns the following structure:"
   ]
  },
  {
   "cell_type": "code",
   "execution_count": 20,
   "metadata": {},
   "outputs": [
    {
     "data": {
      "text/html": [
       "<div>\n",
       "<style>\n",
       "    .dataframe thead tr:only-child th {\n",
       "        text-align: right;\n",
       "    }\n",
       "\n",
       "    .dataframe thead th {\n",
       "        text-align: left;\n",
       "    }\n",
       "\n",
       "    .dataframe tbody tr th {\n",
       "        vertical-align: top;\n",
       "    }\n",
       "</style>\n",
       "<table border=\"1\" class=\"dataframe\">\n",
       "  <thead>\n",
       "    <tr style=\"text-align: right;\">\n",
       "      <th></th>\n",
       "      <th>test-MultiClass-mean</th>\n",
       "      <th>test-MultiClass-std</th>\n",
       "      <th>train-MultiClass-mean</th>\n",
       "      <th>train-MultiClass-std</th>\n",
       "    </tr>\n",
       "  </thead>\n",
       "  <tbody>\n",
       "    <tr>\n",
       "      <th>0</th>\n",
       "      <td>-1.069174</td>\n",
       "      <td>0.000795</td>\n",
       "      <td>-1.064644</td>\n",
       "      <td>0.005105</td>\n",
       "    </tr>\n",
       "    <tr>\n",
       "      <th>1</th>\n",
       "      <td>-1.045174</td>\n",
       "      <td>0.005393</td>\n",
       "      <td>-1.038058</td>\n",
       "      <td>0.009991</td>\n",
       "    </tr>\n",
       "    <tr>\n",
       "      <th>2</th>\n",
       "      <td>-1.019028</td>\n",
       "      <td>0.008281</td>\n",
       "      <td>-1.009059</td>\n",
       "      <td>0.010284</td>\n",
       "    </tr>\n",
       "    <tr>\n",
       "      <th>3</th>\n",
       "      <td>-0.997074</td>\n",
       "      <td>0.009956</td>\n",
       "      <td>-0.986693</td>\n",
       "      <td>0.007185</td>\n",
       "    </tr>\n",
       "    <tr>\n",
       "      <th>4</th>\n",
       "      <td>-0.971038</td>\n",
       "      <td>0.011851</td>\n",
       "      <td>-0.957697</td>\n",
       "      <td>0.008957</td>\n",
       "    </tr>\n",
       "  </tbody>\n",
       "</table>\n",
       "</div>"
      ],
      "text/plain": [
       "   test-MultiClass-mean  test-MultiClass-std  train-MultiClass-mean  \\\n",
       "0             -1.069174             0.000795              -1.064644   \n",
       "1             -1.045174             0.005393              -1.038058   \n",
       "2             -1.019028             0.008281              -1.009059   \n",
       "3             -0.997074             0.009956              -0.986693   \n",
       "4             -0.971038             0.011851              -0.957697   \n",
       "\n",
       "   train-MultiClass-std  \n",
       "0              0.005105  \n",
       "1              0.009991  \n",
       "2              0.010284  \n",
       "3              0.007185  \n",
       "4              0.008957  "
      ]
     },
     "execution_count": 20,
     "metadata": {},
     "output_type": "execute_result"
    }
   ],
   "source": [
    "scores.head()"
   ]
  },
  {
   "cell_type": "markdown",
   "metadata": {},
   "source": [
    "Each of the arrays contains loss in each iteration (like `staged_predict`):"
   ]
  },
  {
   "cell_type": "code",
   "execution_count": 21,
   "metadata": {},
   "outputs": [
    {
     "name": "stderr",
     "output_type": "stream",
     "text": [
      "/home/nikitxskv/.local/lib/python2.7/site-packages/sklearn/base.py:114: DeprecationWarning: Estimator CatBoostClassifier modifies parameters in __init__. This behavior is deprecated as of 0.18 and support for this behavior will be removed in 0.20.\n",
      "  % type(estimator).__name__, DeprecationWarning)\n",
      "/home/nikitxskv/.local/lib/python2.7/site-packages/sklearn/base.py:114: DeprecationWarning: Estimator CatBoostClassifier modifies parameters in __init__. This behavior is deprecated as of 0.18 and support for this behavior will be removed in 0.20.\n",
      "  % type(estimator).__name__, DeprecationWarning)\n",
      "/home/nikitxskv/.local/lib/python2.7/site-packages/sklearn/base.py:114: DeprecationWarning: Estimator CatBoostClassifier modifies parameters in __init__. This behavior is deprecated as of 0.18 and support for this behavior will be removed in 0.20.\n",
      "  % type(estimator).__name__, DeprecationWarning)\n"
     ]
    }
   ],
   "source": [
    "# From sklearn\n",
    "from sklearn.model_selection import cross_val_score\n",
    "\n",
    "model = CatBoostClassifier(iterations=400, loss_function='MultiClass', custom_loss='Accuracy', logging_level='Silent')\n",
    "scores = cross_val_score(model, x_train, y_train, scoring='accuracy', fit_params=None)"
   ]
  },
  {
   "cell_type": "markdown",
   "metadata": {},
   "source": [
    "Also catboost support `GridSearchCV` from `sklearn`:"
   ]
  },
  {
   "cell_type": "code",
   "execution_count": 22,
   "metadata": {
    "scrolled": true
   },
   "outputs": [
    {
     "name": "stdout",
     "output_type": "stream",
     "text": [
      "['mean_fit_time', 'mean_score_time', 'mean_test_score', 'mean_train_score', 'param_depth', 'param_iterations', 'param_learning_rate', 'params', 'rank_test_score', 'split0_test_score', 'split0_train_score', 'split1_test_score', 'split1_train_score', 'split2_test_score', 'split2_train_score', 'std_fit_time', 'std_score_time', 'std_test_score', 'std_train_score']\n"
     ]
    }
   ],
   "source": [
    "from sklearn.model_selection import GridSearchCV\n",
    "\n",
    "# Initialize\n",
    "model = CatBoostClassifier(loss_function='MultiClass', logging_level='Silent')\n",
    "# Init params dict\n",
    "params = {'iterations': [10, 20, 30], 'learning_rate': [0.01, 0.03, 0.1], 'depth': [4, 6, 8]}\n",
    "# Get GridSearchCV\n",
    "model = GridSearchCV(model, params)\n",
    "model.fit(x_train, y_train)\n",
    "print(sorted(model.cv_results_.keys()))"
   ]
  },
  {
   "cell_type": "markdown",
   "metadata": {},
   "source": [
    "Save model to file:"
   ]
  },
  {
   "cell_type": "code",
   "execution_count": 23,
   "metadata": {},
   "outputs": [],
   "source": [
    "model = CatBoostClassifier(iterations=400, loss_function='MultiClass', custom_loss='Accuracy', logging_level='Silent')\n",
    "model.fit(x_train, y_train)\n",
    "model.save_model('model')"
   ]
  },
  {
   "cell_type": "markdown",
   "metadata": {},
   "source": [
    "Load model:"
   ]
  },
  {
   "cell_type": "code",
   "execution_count": 24,
   "metadata": {},
   "outputs": [
    {
     "data": {
      "text/plain": [
       "<catboost.core._CatBoostBase at 0x7ff8d608fa10>"
      ]
     },
     "execution_count": 24,
     "metadata": {},
     "output_type": "execute_result"
    }
   ],
   "source": [
    "model.load_model('model')"
   ]
  },
  {
   "cell_type": "markdown",
   "metadata": {},
   "source": [
    "Copy model:"
   ]
  },
  {
   "cell_type": "code",
   "execution_count": 25,
   "metadata": {},
   "outputs": [],
   "source": [
    "model_copy = model.copy()"
   ]
  },
  {
   "cell_type": "markdown",
   "metadata": {},
   "source": [
    "Get `feature_importance`:"
   ]
  },
  {
   "cell_type": "code",
   "execution_count": 26,
   "metadata": {},
   "outputs": [
    {
     "name": "stdout",
     "output_type": "stream",
     "text": [
      "[4.031255278950752, 6.348744477463416, 43.90142650200039, 45.71857374158544]\n"
     ]
    }
   ],
   "source": [
    "# for get attr feature_importance_ you should add parameter `calc_feature_importance=True` to model\n",
    "model = CatBoostClassifier(\n",
    "    iterations=400,\n",
    "    loss_function='MultiClass',\n",
    "    calc_feature_importance=True,\n",
    "    logging_level='Silent'\n",
    ")\n",
    "model.fit(x_train, y_train)\n",
    "print(model.feature_importances_)"
   ]
  },
  {
   "cell_type": "markdown",
   "metadata": {},
   "source": [
    "Get model params:"
   ]
  },
  {
   "cell_type": "code",
   "execution_count": 27,
   "metadata": {},
   "outputs": [
    {
     "data": {
      "text/plain": [
       "{'calc_feature_importance': True,\n",
       " 'iterations': 400,\n",
       " 'logging_level': 'Silent',\n",
       " 'loss_function': 'MultiClass'}"
      ]
     },
     "execution_count": 27,
     "metadata": {},
     "output_type": "execute_result"
    }
   ],
   "source": [
    "# params used for fitting the model\n",
    "model.get_params()"
   ]
  }
 ],
 "metadata": {
  "kernelspec": {
   "display_name": "Python 2",
   "language": "python",
   "name": "python2"
  },
  "language_info": {
   "codemirror_mode": {
    "name": "ipython",
    "version": 2
   },
   "file_extension": ".py",
   "mimetype": "text/x-python",
   "name": "python",
   "nbconvert_exporter": "python",
   "pygments_lexer": "ipython2",
   "version": "2.7.12"
  }
 },
 "nbformat": 4,
 "nbformat_minor": 2
}
