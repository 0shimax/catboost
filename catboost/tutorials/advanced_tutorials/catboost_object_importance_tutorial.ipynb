{
 "cells": [
  {
   "cell_type": "markdown",
   "metadata": {},
   "source": [
    "# Object Importance Tutorial"
   ]
  },
  {
   "cell_type": "markdown",
   "metadata": {},
   "source": [
    "In this tutorial we show how you can detect noisy objects in your dataset. "
   ]
  },
  {
   "cell_type": "code",
   "execution_count": 1,
   "metadata": {},
   "outputs": [],
   "source": [
    "import numpy as np\n",
    "from catboost import CatBoost, Pool, datasets\n",
    "from sklearn.model_selection import train_test_split"
   ]
  },
  {
   "cell_type": "markdown",
   "metadata": {
    "collapsed": true
   },
   "source": [
    "First, let's load the dataset:"
   ]
  },
  {
   "cell_type": "code",
   "execution_count": 2,
   "metadata": {},
   "outputs": [
    {
     "name": "stdout",
     "output_type": "stream",
     "text": [
      "((24576, 9), (8193, 9))\n"
     ]
    }
   ],
   "source": [
    "train_df, _ = datasets.amazon()\n",
    "\n",
    "X, y = np.array(train_df.drop(['ACTION'], axis=1)), np.array(train_df.ACTION)\n",
    "X_train, X_test, y_train, y_test = train_test_split(X, y, test_size=0.25, random_state=42)\n",
    "cat_features = np.arange(9)\n",
    "\n",
    "print(X_train.shape, X_test.shape)"
   ]
  },
  {
   "cell_type": "markdown",
   "metadata": {},
   "source": [
    "Let's inject random noise into 30% of training labels:"
   ]
  },
  {
   "cell_type": "code",
   "execution_count": 3,
   "metadata": {},
   "outputs": [],
   "source": [
    "np.random.seed(42)\n",
    "perturbed_idxs = np.random.choice(len(y_train), size=int(len(y_train) * 0.3), replace=False)\n",
    "y_train[perturbed_idxs] = 1 - y_train[perturbed_idxs]\n",
    "\n",
    "train_pool = Pool(X_train, y_train, cat_features=cat_features)\n",
    "test_pool = Pool(X_test, y_test, cat_features=cat_features)"
   ]
  },
  {
   "cell_type": "markdown",
   "metadata": {},
   "source": [
    "And train CatBoost on noisy data:"
   ]
  },
  {
   "cell_type": "code",
   "execution_count": 4,
   "metadata": {},
   "outputs": [],
   "source": [
    "cb = CatBoost({'iterations': 100, 'verbose': False, 'random_seed': 42})\n",
    "cb.fit(train_pool);"
   ]
  },
  {
   "cell_type": "markdown",
   "metadata": {},
   "source": [
    "Now let's sample random 500 test objects and calculate the train objects importance for these tests objects:"
   ]
  },
  {
   "cell_type": "code",
   "execution_count": 5,
   "metadata": {},
   "outputs": [],
   "source": [
    "np.random.seed(42)\n",
    "test_idx = np.random.choice(np.arange(y_test.shape[0]), size=500, replace=False)\n",
    "test_pool_sampled = Pool(X_test[test_idx], y_test[test_idx], cat_features=cat_features)\n",
    "\n",
    "indices, scores = cb.get_object_importance(\n",
    "    test_pool_sampled,\n",
    "    train_pool,\n",
    "    importance_values_sign='Positive' # Positive values means that the optimized metric\n",
    "                                      # value is increase because of given train objects.\n",
    ")"
   ]
  },
  {
   "cell_type": "markdown",
   "metadata": {},
   "source": [
    "Finally, in a loop, let's remove noisy objects in batches, retrain the model, and see how the quality on the test dataset improves:"
   ]
  },
  {
   "cell_type": "code",
   "execution_count": 6,
   "metadata": {},
   "outputs": [
    {
     "name": "stdout",
     "output_type": "stream",
     "text": [
      "RMSE on test object when 0 harmful objects from train are dropped: 0.378438571394\n",
      "RMSE on test object when 250 harmful objects from train are dropped: 0.37313097885\n",
      "RMSE on test object when 500 harmful objects from train are dropped: 0.370256643651\n",
      "RMSE on test object when 750 harmful objects from train are dropped: 0.364329880946\n",
      "RMSE on test object when 1000 harmful objects from train are dropped: 0.35813052939\n",
      "RMSE on test object when 1250 harmful objects from train are dropped: 0.354199434733\n",
      "RMSE on test object when 1500 harmful objects from train are dropped: 0.347473535051\n",
      "RMSE on test object when 1750 harmful objects from train are dropped: 0.343148120213\n",
      "RMSE on test object when 2000 harmful objects from train are dropped: 0.338461459648\n"
     ]
    }
   ],
   "source": [
    "def train_and_print_score(train_indices, remove_object_count):\n",
    "    cb.fit(X_train[train_indices], y_train[train_indices], cat_features=cat_features)\n",
    "    metric_value = cb.eval_metrics(test_pool, ['RMSE'])['RMSE'][-1]\n",
    "    s = 'RMSE on test object when {} harmful objects from train are dropped: {}'\n",
    "    s = s.format(remove_object_count, metric_value)\n",
    "    print(s)\n",
    "\n",
    "batch_size = 250\n",
    "train_indices = np.full(X_train.shape[0], True)\n",
    "train_and_print_score(train_indices, 0)\n",
    "for batch_start_index in range(0, 2000, batch_size):\n",
    "    train_indices[indices[batch_start_index:batch_start_index + batch_size]] = False\n",
    "    train_and_print_score(train_indices, batch_start_index + batch_size)"
   ]
  }
 ],
 "metadata": {
  "kernelspec": {
   "display_name": "Python 2",
   "language": "python",
   "name": "python2"
  },
  "language_info": {
   "codemirror_mode": {
    "name": "ipython",
    "version": 2
   },
   "file_extension": ".py",
   "mimetype": "text/x-python",
   "name": "python",
   "nbconvert_exporter": "python",
   "pygments_lexer": "ipython2",
   "version": "2.7.12"
  }
 },
 "nbformat": 4,
 "nbformat_minor": 1
}
